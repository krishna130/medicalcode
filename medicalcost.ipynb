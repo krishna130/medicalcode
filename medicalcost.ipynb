{
  "nbformat": 4,
  "nbformat_minor": 0,
  "metadata": {
    "kernelspec": {
      "display_name": "Python 3",
      "language": "python",
      "name": "python3"
    },
    "language_info": {
      "codemirror_mode": {
        "name": "ipython",
        "version": 3
      },
      "file_extension": ".py",
      "mimetype": "text/x-python",
      "name": "python",
      "nbconvert_exporter": "python",
      "pygments_lexer": "ipython3",
      "version": "3.7.9"
    },
    "papermill": {
      "default_parameters": {},
      "duration": 12.301452,
      "end_time": "2021-03-21T08:47:26.835054",
      "environment_variables": {},
      "exception": null,
      "input_path": "__notebook__.ipynb",
      "output_path": "__notebook__.ipynb",
      "parameters": {},
      "start_time": "2021-03-21T08:47:14.533602",
      "version": "2.2.2"
    },
    "colab": {
      "name": "medicalcost.ipynb",
      "provenance": [],
      "toc_visible": true
    }
  },
  "cells": [
    {
      "cell_type": "markdown",
      "metadata": {
        "papermill": {
          "duration": 0.01746,
          "end_time": "2021-03-21T08:47:19.954179",
          "exception": false,
          "start_time": "2021-03-21T08:47:19.936719",
          "status": "completed"
        },
        "tags": [],
        "id": "A0OaZ8Q-rNqw"
      },
      "source": [
        "## Loading Data\n",
        " "
      ]
    },
    {
      "cell_type": "code",
      "metadata": {
        "_cell_guid": "b1076dfc-b9ad-4769-8c92-a6c4dae69d19",
        "_uuid": "8f2839f25d086af736a60e9eeb907d3b93b6e0e5",
        "execution": {
          "iopub.execute_input": "2021-03-21T08:47:19.994656Z",
          "iopub.status.busy": "2021-03-21T08:47:19.994035Z",
          "iopub.status.idle": "2021-03-21T08:47:20.012145Z",
          "shell.execute_reply": "2021-03-21T08:47:20.011203Z"
        },
        "papermill": {
          "duration": 0.041843,
          "end_time": "2021-03-21T08:47:20.012623",
          "exception": false,
          "start_time": "2021-03-21T08:47:19.970780",
          "status": "completed"
        },
        "tags": [],
        "id": "OWDuH9S1rNrv"
      },
      "source": [
        "# This Python 3 environment comes with many helpful analytics libraries installed\n",
        "# It is defined by the kaggle/python Docker image: https://github.com/kaggle/docker-python\n",
        "# For example, here's several helpful packages to load\n",
        "\n",
        "import numpy as np # linear algebra\n",
        "import pandas as pd # data processing, CSV file I/O (e.g. pd.read_csv)\n",
        "\n",
        "# Input data files are available in the read-only \"../input/\" directory\n",
        "# For example, running this (by clicking run or pressing Shift+Enter) will list all files under the input directory\n",
        "\n",
        "import os\n",
        "for dirname, _, filenames in os.walk('/kaggle/input'):\n",
        "    for filename in filenames:\n",
        "        print(os.path.join(dirname, filename))\n",
        "\n",
        "# You can write up to 20GB to the current directory (/kaggle/working/) that gets preserved as output when you create a version using \"Save & Run All\" \n",
        "# You can also write temporary files to /kaggle/temp/, but they won't be saved outside of the current session"
      ],
      "execution_count": 9,
      "outputs": []
    },
    {
      "cell_type": "code",
      "metadata": {
        "colab": {
          "base_uri": "https://localhost:8080/"
        },
        "id": "3pCjyp1LsPda",
        "outputId": "6af8ec18-ad1b-4662-dabe-b0cb86752b61"
      },
      "source": [
        "!git clone https://github.com/kaggle/docker-python"
      ],
      "execution_count": 6,
      "outputs": [
        {
          "output_type": "stream",
          "text": [
            "Cloning into 'docker-python'...\n",
            "remote: Enumerating objects: 5676, done.\u001b[K\n",
            "remote: Counting objects: 100% (64/64), done.\u001b[K\n",
            "remote: Compressing objects: 100% (53/53), done.\u001b[K\n",
            "remote: Total 5676 (delta 37), reused 17 (delta 11), pack-reused 5612\u001b[K\n",
            "Receiving objects: 100% (5676/5676), 1.93 MiB | 20.57 MiB/s, done.\n",
            "Resolving deltas: 100% (3287/3287), done.\n"
          ],
          "name": "stdout"
        }
      ]
    },
    {
      "cell_type": "code",
      "metadata": {
        "colab": {
          "base_uri": "https://localhost:8080/"
        },
        "id": "s0ZAjK7ZunzM",
        "outputId": "53edd647-cdb6-49cf-9a64-0dd2e8a6670e"
      },
      "source": [
        "%cd content/mnt/"
      ],
      "execution_count": 14,
      "outputs": [
        {
          "output_type": "stream",
          "text": [
            "/content/mnt\n"
          ],
          "name": "stdout"
        }
      ]
    },
    {
      "cell_type": "code",
      "metadata": {
        "execution": {
          "iopub.execute_input": "2021-03-21T08:47:20.053134Z",
          "iopub.status.busy": "2021-03-21T08:47:20.052470Z",
          "iopub.status.idle": "2021-03-21T08:47:20.072424Z",
          "shell.execute_reply": "2021-03-21T08:47:20.071946Z"
        },
        "papermill": {
          "duration": 0.041409,
          "end_time": "2021-03-21T08:47:20.072567",
          "exception": false,
          "start_time": "2021-03-21T08:47:20.031158",
          "status": "completed"
        },
        "tags": [],
        "id": "wINALjNGrNr8"
      },
      "source": [
        "df = pd.read_csv('insurance.csv')\n"
      ],
      "execution_count": 16,
      "outputs": []
    },
    {
      "cell_type": "markdown",
      "metadata": {
        "papermill": {
          "duration": 0.017763,
          "end_time": "2021-03-21T08:47:20.107582",
          "exception": false,
          "start_time": "2021-03-21T08:47:20.089819",
          "status": "completed"
        },
        "tags": [],
        "id": "jOIaa926rNr_"
      },
      "source": [
        "## Exploring Data\n",
        " "
      ]
    },
    {
      "cell_type": "code",
      "metadata": {
        "execution": {
          "iopub.execute_input": "2021-03-21T08:47:20.157562Z",
          "iopub.status.busy": "2021-03-21T08:47:20.156631Z",
          "iopub.status.idle": "2021-03-21T08:47:20.178280Z",
          "shell.execute_reply": "2021-03-21T08:47:20.178724Z"
        },
        "papermill": {
          "duration": 0.05175,
          "end_time": "2021-03-21T08:47:20.178931",
          "exception": false,
          "start_time": "2021-03-21T08:47:20.127181",
          "status": "completed"
        },
        "tags": [],
        "colab": {
          "base_uri": "https://localhost:8080/",
          "height": 197
        },
        "id": "L92TBvfOrNsB",
        "outputId": "8028a9ad-e2c4-4c3a-d8da-5dedd8b334ba"
      },
      "source": [
        "df.head()"
      ],
      "execution_count": 17,
      "outputs": [
        {
          "output_type": "execute_result",
          "data": {
            "text/html": [
              "<div>\n",
              "<style scoped>\n",
              "    .dataframe tbody tr th:only-of-type {\n",
              "        vertical-align: middle;\n",
              "    }\n",
              "\n",
              "    .dataframe tbody tr th {\n",
              "        vertical-align: top;\n",
              "    }\n",
              "\n",
              "    .dataframe thead th {\n",
              "        text-align: right;\n",
              "    }\n",
              "</style>\n",
              "<table border=\"1\" class=\"dataframe\">\n",
              "  <thead>\n",
              "    <tr style=\"text-align: right;\">\n",
              "      <th></th>\n",
              "      <th>age</th>\n",
              "      <th>sex</th>\n",
              "      <th>bmi</th>\n",
              "      <th>children</th>\n",
              "      <th>smoker</th>\n",
              "      <th>region</th>\n",
              "      <th>charges</th>\n",
              "    </tr>\n",
              "  </thead>\n",
              "  <tbody>\n",
              "    <tr>\n",
              "      <th>0</th>\n",
              "      <td>19</td>\n",
              "      <td>female</td>\n",
              "      <td>27.900</td>\n",
              "      <td>0</td>\n",
              "      <td>yes</td>\n",
              "      <td>southwest</td>\n",
              "      <td>16884.92400</td>\n",
              "    </tr>\n",
              "    <tr>\n",
              "      <th>1</th>\n",
              "      <td>18</td>\n",
              "      <td>male</td>\n",
              "      <td>33.770</td>\n",
              "      <td>1</td>\n",
              "      <td>no</td>\n",
              "      <td>southeast</td>\n",
              "      <td>1725.55230</td>\n",
              "    </tr>\n",
              "    <tr>\n",
              "      <th>2</th>\n",
              "      <td>28</td>\n",
              "      <td>male</td>\n",
              "      <td>33.000</td>\n",
              "      <td>3</td>\n",
              "      <td>no</td>\n",
              "      <td>southeast</td>\n",
              "      <td>4449.46200</td>\n",
              "    </tr>\n",
              "    <tr>\n",
              "      <th>3</th>\n",
              "      <td>33</td>\n",
              "      <td>male</td>\n",
              "      <td>22.705</td>\n",
              "      <td>0</td>\n",
              "      <td>no</td>\n",
              "      <td>northwest</td>\n",
              "      <td>21984.47061</td>\n",
              "    </tr>\n",
              "    <tr>\n",
              "      <th>4</th>\n",
              "      <td>32</td>\n",
              "      <td>male</td>\n",
              "      <td>28.880</td>\n",
              "      <td>0</td>\n",
              "      <td>no</td>\n",
              "      <td>northwest</td>\n",
              "      <td>3866.85520</td>\n",
              "    </tr>\n",
              "  </tbody>\n",
              "</table>\n",
              "</div>"
            ],
            "text/plain": [
              "   age     sex     bmi  children smoker     region      charges\n",
              "0   19  female  27.900         0    yes  southwest  16884.92400\n",
              "1   18    male  33.770         1     no  southeast   1725.55230\n",
              "2   28    male  33.000         3     no  southeast   4449.46200\n",
              "3   33    male  22.705         0     no  northwest  21984.47061\n",
              "4   32    male  28.880         0     no  northwest   3866.85520"
            ]
          },
          "metadata": {
            "tags": []
          },
          "execution_count": 17
        }
      ]
    },
    {
      "cell_type": "code",
      "metadata": {
        "execution": {
          "iopub.execute_input": "2021-03-21T08:47:20.217514Z",
          "iopub.status.busy": "2021-03-21T08:47:20.216589Z",
          "iopub.status.idle": "2021-03-21T08:47:20.223560Z",
          "shell.execute_reply": "2021-03-21T08:47:20.222976Z"
        },
        "papermill": {
          "duration": 0.027277,
          "end_time": "2021-03-21T08:47:20.223697",
          "exception": false,
          "start_time": "2021-03-21T08:47:20.196420",
          "status": "completed"
        },
        "tags": [],
        "colab": {
          "base_uri": "https://localhost:8080/"
        },
        "id": "ZyRQVtk9rNsE",
        "outputId": "a916394c-c9a6-4c20-ad9a-aa5f2a7da2cc"
      },
      "source": [
        "df.shape"
      ],
      "execution_count": 18,
      "outputs": [
        {
          "output_type": "execute_result",
          "data": {
            "text/plain": [
              "(1338, 7)"
            ]
          },
          "metadata": {
            "tags": []
          },
          "execution_count": 18
        }
      ]
    },
    {
      "cell_type": "code",
      "metadata": {
        "execution": {
          "iopub.execute_input": "2021-03-21T08:47:20.266012Z",
          "iopub.status.busy": "2021-03-21T08:47:20.265154Z",
          "iopub.status.idle": "2021-03-21T08:47:20.268576Z",
          "shell.execute_reply": "2021-03-21T08:47:20.269037Z"
        },
        "papermill": {
          "duration": 0.027771,
          "end_time": "2021-03-21T08:47:20.269208",
          "exception": false,
          "start_time": "2021-03-21T08:47:20.241437",
          "status": "completed"
        },
        "tags": [],
        "colab": {
          "base_uri": "https://localhost:8080/"
        },
        "id": "i-hnBNbnrNsH",
        "outputId": "58aee7af-f758-496b-9dbe-3d0dab513d5d"
      },
      "source": [
        "df.dtypes"
      ],
      "execution_count": 19,
      "outputs": [
        {
          "output_type": "execute_result",
          "data": {
            "text/plain": [
              "age           int64\n",
              "sex          object\n",
              "bmi         float64\n",
              "children      int64\n",
              "smoker       object\n",
              "region       object\n",
              "charges     float64\n",
              "dtype: object"
            ]
          },
          "metadata": {
            "tags": []
          },
          "execution_count": 19
        }
      ]
    },
    {
      "cell_type": "code",
      "metadata": {
        "execution": {
          "iopub.execute_input": "2021-03-21T08:47:20.310248Z",
          "iopub.status.busy": "2021-03-21T08:47:20.309292Z",
          "iopub.status.idle": "2021-03-21T08:47:20.320287Z",
          "shell.execute_reply": "2021-03-21T08:47:20.319719Z"
        },
        "papermill": {
          "duration": 0.032769,
          "end_time": "2021-03-21T08:47:20.320442",
          "exception": false,
          "start_time": "2021-03-21T08:47:20.287673",
          "status": "completed"
        },
        "tags": [],
        "colab": {
          "base_uri": "https://localhost:8080/"
        },
        "id": "TSwhh3L8rNsI",
        "outputId": "3b841f60-482d-4f34-b7d2-d61c98de9969"
      },
      "source": [
        "df['region'].value_counts()"
      ],
      "execution_count": 20,
      "outputs": [
        {
          "output_type": "execute_result",
          "data": {
            "text/plain": [
              "southeast    364\n",
              "northwest    325\n",
              "southwest    325\n",
              "northeast    324\n",
              "Name: region, dtype: int64"
            ]
          },
          "metadata": {
            "tags": []
          },
          "execution_count": 20
        }
      ]
    },
    {
      "cell_type": "code",
      "metadata": {
        "execution": {
          "iopub.execute_input": "2021-03-21T08:47:20.365790Z",
          "iopub.status.busy": "2021-03-21T08:47:20.364804Z",
          "iopub.status.idle": "2021-03-21T08:47:20.369317Z",
          "shell.execute_reply": "2021-03-21T08:47:20.369856Z"
        },
        "papermill": {
          "duration": 0.030982,
          "end_time": "2021-03-21T08:47:20.370120",
          "exception": false,
          "start_time": "2021-03-21T08:47:20.339138",
          "status": "completed"
        },
        "tags": [],
        "colab": {
          "base_uri": "https://localhost:8080/"
        },
        "id": "k16cwBjGrNsK",
        "outputId": "37815e9a-6702-41b4-8e45-ba1ff574fbe3"
      },
      "source": [
        "df.isnull().sum()"
      ],
      "execution_count": 21,
      "outputs": [
        {
          "output_type": "execute_result",
          "data": {
            "text/plain": [
              "age         0\n",
              "sex         0\n",
              "bmi         0\n",
              "children    0\n",
              "smoker      0\n",
              "region      0\n",
              "charges     0\n",
              "dtype: int64"
            ]
          },
          "metadata": {
            "tags": []
          },
          "execution_count": 21
        }
      ]
    },
    {
      "cell_type": "code",
      "metadata": {
        "execution": {
          "iopub.execute_input": "2021-03-21T08:47:20.414237Z",
          "iopub.status.busy": "2021-03-21T08:47:20.413605Z",
          "iopub.status.idle": "2021-03-21T08:47:21.362583Z",
          "shell.execute_reply": "2021-03-21T08:47:21.361962Z"
        },
        "papermill": {
          "duration": 0.973348,
          "end_time": "2021-03-21T08:47:21.362721",
          "exception": false,
          "start_time": "2021-03-21T08:47:20.389373",
          "status": "completed"
        },
        "tags": [],
        "id": "HV00rohJrNsM"
      },
      "source": [
        "from sklearn import preprocessing\n",
        "le = preprocessing.LabelEncoder()\n",
        "df['sex'] = le.fit_transform(df['sex'])\n",
        "df['smoker'] = le.fit_transform(df['smoker'])\n",
        "df['region'] = le.fit_transform(df['region'])"
      ],
      "execution_count": 22,
      "outputs": []
    },
    {
      "cell_type": "markdown",
      "metadata": {
        "papermill": {
          "duration": 0.018384,
          "end_time": "2021-03-21T08:47:21.400985",
          "exception": false,
          "start_time": "2021-03-21T08:47:21.382601",
          "status": "completed"
        },
        "tags": [],
        "id": "Bl8_8-7BrNsO"
      },
      "source": [
        "## Split Data"
      ]
    },
    {
      "cell_type": "code",
      "metadata": {
        "execution": {
          "iopub.execute_input": "2021-03-21T08:47:21.443648Z",
          "iopub.status.busy": "2021-03-21T08:47:21.442972Z",
          "iopub.status.idle": "2021-03-21T08:47:21.447410Z",
          "shell.execute_reply": "2021-03-21T08:47:21.446933Z"
        },
        "papermill": {
          "duration": 0.028001,
          "end_time": "2021-03-21T08:47:21.447544",
          "exception": false,
          "start_time": "2021-03-21T08:47:21.419543",
          "status": "completed"
        },
        "tags": [],
        "id": "Wv61B7DyrNsQ"
      },
      "source": [
        "X = df.drop('charges',axis=1)\n",
        "y = df['charges']"
      ],
      "execution_count": 23,
      "outputs": []
    },
    {
      "cell_type": "code",
      "metadata": {
        "execution": {
          "iopub.execute_input": "2021-03-21T08:47:21.488811Z",
          "iopub.status.busy": "2021-03-21T08:47:21.487889Z",
          "iopub.status.idle": "2021-03-21T08:47:21.567360Z",
          "shell.execute_reply": "2021-03-21T08:47:21.567879Z"
        },
        "papermill": {
          "duration": 0.101836,
          "end_time": "2021-03-21T08:47:21.568104",
          "exception": false,
          "start_time": "2021-03-21T08:47:21.466268",
          "status": "completed"
        },
        "tags": [],
        "id": "U0U1o3hSrNsR"
      },
      "source": [
        "from sklearn.model_selection import train_test_split\n",
        "X_train, X_test, y_train, y_test = train_test_split(X, y, test_size = 0.33, random_state = 42)"
      ],
      "execution_count": 24,
      "outputs": []
    },
    {
      "cell_type": "code",
      "metadata": {
        "execution": {
          "iopub.execute_input": "2021-03-21T08:47:21.612010Z",
          "iopub.status.busy": "2021-03-21T08:47:21.611062Z",
          "iopub.status.idle": "2021-03-21T08:47:22.888664Z",
          "shell.execute_reply": "2021-03-21T08:47:22.888069Z"
        },
        "papermill": {
          "duration": 1.300328,
          "end_time": "2021-03-21T08:47:22.888812",
          "exception": false,
          "start_time": "2021-03-21T08:47:21.588484",
          "status": "completed"
        },
        "tags": [],
        "colab": {
          "base_uri": "https://localhost:8080/",
          "height": 890
        },
        "id": "G6b4iAu5rNsT",
        "outputId": "69575922-504d-445e-813a-ea29a4aca2f2"
      },
      "source": [
        "import seaborn as sns \n",
        "import matplotlib.pyplot as plt \n",
        "fig = plt.figure(figsize = (20,15))\n",
        "ax = fig.gca()\n",
        "df.hist(ax=ax)\n",
        "plt.show()"
      ],
      "execution_count": 25,
      "outputs": [
        {
          "output_type": "stream",
          "text": [
            "/usr/local/lib/python3.7/dist-packages/ipykernel_launcher.py:5: UserWarning: To output multiple subplots, the figure containing the passed axes is being cleared\n",
            "  \"\"\"\n"
          ],
          "name": "stderr"
        },
        {
          "output_type": "display_data",
          "data": {
            "image/png": "[encoded data removed]",
            "text/plain": [
              "<Figure size 1440x1080 with 9 Axes>"
            ]
          },
          "metadata": {
            "tags": [],
            "needs_background": "light"
          }
        }
      ]
    },
    {
      "cell_type": "code",
      "metadata": {
        "execution": {
          "iopub.execute_input": "2021-03-21T08:47:22.935360Z",
          "iopub.status.busy": "2021-03-21T08:47:22.934323Z",
          "iopub.status.idle": "2021-03-21T08:47:23.169698Z",
          "shell.execute_reply": "2021-03-21T08:47:23.169079Z"
        },
        "papermill": {
          "duration": 0.260278,
          "end_time": "2021-03-21T08:47:23.169857",
          "exception": false,
          "start_time": "2021-03-21T08:47:22.909579",
          "status": "completed"
        },
        "tags": [],
        "colab": {
          "base_uri": "https://localhost:8080/",
          "height": 595
        },
        "id": "o4B8QUFJrNsV",
        "outputId": "dc9a146f-61b1-49d7-a536-0518e29664fe"
      },
      "source": [
        "plt.figure(figsize=(12,10))\n",
        "ax = sns.heatmap(df.corr())"
      ],
      "execution_count": 26,
      "outputs": [
        {
          "output_type": "display_data",
          "data": {
            "image/png": "[encoded data removed]",
            "text/plain": [
              "<Figure size 864x720 with 2 Axes>"
            ]
          },
          "metadata": {
            "tags": [],
            "needs_background": "light"
          }
        }
      ]
    },
    {
      "cell_type": "code",
      "metadata": {
        "execution": {
          "iopub.execute_input": "2021-03-21T08:47:23.217872Z",
          "iopub.status.busy": "2021-03-21T08:47:23.217217Z",
          "iopub.status.idle": "2021-03-21T08:47:23.500009Z",
          "shell.execute_reply": "2021-03-21T08:47:23.498725Z"
        },
        "papermill": {
          "duration": 0.30862,
          "end_time": "2021-03-21T08:47:23.500166",
          "exception": false,
          "start_time": "2021-03-21T08:47:23.191546",
          "status": "completed"
        },
        "tags": [],
        "colab": {
          "base_uri": "https://localhost:8080/"
        },
        "id": "hzZbjQtTrNsX",
        "outputId": "f50750e1-705f-40f9-d8ba-306beb925432"
      },
      "source": [
        "from yellowbrick.target import FeatureCorrelation\n",
        "\n",
        "feature_names = list(X.columns)"
      ],
      "execution_count": 27,
      "outputs": [
        {
          "output_type": "stream",
          "text": [
            "/usr/local/lib/python3.7/dist-packages/sklearn/utils/deprecation.py:144: FutureWarning: The sklearn.metrics.classification module is  deprecated in version 0.22 and will be removed in version 0.24. The corresponding classes / functions should instead be imported from sklearn.metrics. Anything that cannot be imported from sklearn.metrics is now part of the private API.\n",
            "  warnings.warn(message, FutureWarning)\n"
          ],
          "name": "stderr"
        }
      ]
    },
    {
      "cell_type": "code",
      "metadata": {
        "execution": {
          "iopub.execute_input": "2021-03-21T08:47:23.564269Z",
          "iopub.status.busy": "2021-03-21T08:47:23.550121Z",
          "iopub.status.idle": "2021-03-21T08:47:23.717185Z",
          "shell.execute_reply": "2021-03-21T08:47:23.716600Z"
        },
        "papermill": {
          "duration": 0.195818,
          "end_time": "2021-03-21T08:47:23.717337",
          "exception": false,
          "start_time": "2021-03-21T08:47:23.521519",
          "status": "completed"
        },
        "tags": [],
        "colab": {
          "base_uri": "https://localhost:8080/",
          "height": 431
        },
        "id": "o52SaEFcrNsb",
        "outputId": "41cb3108-d82e-4ebf-a1f2-27faab5e4542"
      },
      "source": [
        "visualizer = FeatureCorrelation(labels = feature_names)\n",
        "\n",
        "visualizer.fit(X, y)\n",
        "\n",
        "visualizer.poof()"
      ],
      "execution_count": 28,
      "outputs": [
        {
          "output_type": "stream",
          "text": [
            "/usr/local/lib/python3.7/dist-packages/sklearn/base.py:197: FutureWarning: From version 0.24, get_params will raise an AttributeError if a parameter cannot be retrieved as an instance attribute. Previously it would return None.\n",
            "  FutureWarning)\n"
          ],
          "name": "stderr"
        },
        {
          "output_type": "display_data",
          "data": {
            "image/png": "[encoded data removed]",
            "text/plain": [
              "<Figure size 576x396 with 1 Axes>"
            ]
          },
          "metadata": {
            "tags": []
          }
        }
      ]
    },
    {
      "cell_type": "markdown",
      "metadata": {
        "papermill": {
          "duration": 0.022129,
          "end_time": "2021-03-21T08:47:23.762119",
          "exception": false,
          "start_time": "2021-03-21T08:47:23.739990",
          "status": "completed"
        },
        "tags": [],
        "id": "1uelUc3rrNsc"
      },
      "source": [
        "### Show Outlier Data "
      ]
    },
    {
      "cell_type": "code",
      "metadata": {
        "execution": {
          "iopub.execute_input": "2021-03-21T08:47:23.834651Z",
          "iopub.status.busy": "2021-03-21T08:47:23.828120Z",
          "iopub.status.idle": "2021-03-21T08:47:24.017358Z",
          "shell.execute_reply": "2021-03-21T08:47:24.016715Z"
        },
        "papermill": {
          "duration": 0.232916,
          "end_time": "2021-03-21T08:47:24.017499",
          "exception": false,
          "start_time": "2021-03-21T08:47:23.784583",
          "status": "completed"
        },
        "tags": [],
        "colab": {
          "base_uri": "https://localhost:8080/",
          "height": 0
        },
        "id": "j3TeXPM4rNsd",
        "outputId": "f5930766-0c3b-4316-e8b9-aa77667f5c75"
      },
      "source": [
        "boxplot = X.boxplot(figsize=(15, 12))"
      ],
      "execution_count": 29,
      "outputs": [
        {
          "output_type": "display_data",
          "data": {
            "image/png": "[encoded data removed]",
            "text/plain": [
              "<Figure size 1080x864 with 1 Axes>"
            ]
          },
          "metadata": {
            "tags": []
          }
        }
      ]
    },
    {
      "cell_type": "code",
      "metadata": {
        "execution": {
          "iopub.execute_input": "2021-03-21T08:47:24.069929Z",
          "iopub.status.busy": "2021-03-21T08:47:24.069281Z",
          "iopub.status.idle": "2021-03-21T08:47:24.099247Z",
          "shell.execute_reply": "2021-03-21T08:47:24.099703Z"
        },
        "papermill": {
          "duration": 0.058945,
          "end_time": "2021-03-21T08:47:24.099877",
          "exception": false,
          "start_time": "2021-03-21T08:47:24.040932",
          "status": "completed"
        },
        "tags": [],
        "colab": {
          "base_uri": "https://localhost:8080/",
          "height": 0
        },
        "id": "2t8o0zKzrNsf",
        "outputId": "c6a21d5a-d320-4c69-9fcb-05b35d36744a"
      },
      "source": [
        "df.loc[df['bmi'] > 45]                                         "
      ],
      "execution_count": 30,
      "outputs": [
        {
          "output_type": "execute_result",
          "data": {
            "text/html": [
              "<div>\n",
              "<style scoped>\n",
              "    .dataframe tbody tr th:only-of-type {\n",
              "        vertical-align: middle;\n",
              "    }\n",
              "\n",
              "    .dataframe tbody tr th {\n",
              "        vertical-align: top;\n",
              "    }\n",
              "\n",
              "    .dataframe thead th {\n",
              "        text-align: right;\n",
              "    }\n",
              "</style>\n",
              "<table border=\"1\" class=\"dataframe\">\n",
              "  <thead>\n",
              "    <tr style=\"text-align: right;\">\n",
              "      <th></th>\n",
              "      <th>age</th>\n",
              "      <th>sex</th>\n",
              "      <th>bmi</th>\n",
              "      <th>children</th>\n",
              "      <th>smoker</th>\n",
              "      <th>region</th>\n",
              "      <th>charges</th>\n",
              "    </tr>\n",
              "  </thead>\n",
              "  <tbody>\n",
              "    <tr>\n",
              "      <th>116</th>\n",
              "      <td>58</td>\n",
              "      <td>1</td>\n",
              "      <td>49.06</td>\n",
              "      <td>0</td>\n",
              "      <td>0</td>\n",
              "      <td>2</td>\n",
              "      <td>11381.32540</td>\n",
              "    </tr>\n",
              "    <tr>\n",
              "      <th>286</th>\n",
              "      <td>46</td>\n",
              "      <td>0</td>\n",
              "      <td>48.07</td>\n",
              "      <td>2</td>\n",
              "      <td>0</td>\n",
              "      <td>0</td>\n",
              "      <td>9432.92530</td>\n",
              "    </tr>\n",
              "    <tr>\n",
              "      <th>292</th>\n",
              "      <td>25</td>\n",
              "      <td>1</td>\n",
              "      <td>45.54</td>\n",
              "      <td>2</td>\n",
              "      <td>1</td>\n",
              "      <td>2</td>\n",
              "      <td>42112.23560</td>\n",
              "    </tr>\n",
              "    <tr>\n",
              "      <th>401</th>\n",
              "      <td>47</td>\n",
              "      <td>1</td>\n",
              "      <td>47.52</td>\n",
              "      <td>1</td>\n",
              "      <td>0</td>\n",
              "      <td>2</td>\n",
              "      <td>8083.91980</td>\n",
              "    </tr>\n",
              "    <tr>\n",
              "      <th>438</th>\n",
              "      <td>52</td>\n",
              "      <td>0</td>\n",
              "      <td>46.75</td>\n",
              "      <td>5</td>\n",
              "      <td>0</td>\n",
              "      <td>2</td>\n",
              "      <td>12592.53450</td>\n",
              "    </tr>\n",
              "    <tr>\n",
              "      <th>454</th>\n",
              "      <td>32</td>\n",
              "      <td>1</td>\n",
              "      <td>46.53</td>\n",
              "      <td>2</td>\n",
              "      <td>0</td>\n",
              "      <td>2</td>\n",
              "      <td>4686.38870</td>\n",
              "    </tr>\n",
              "    <tr>\n",
              "      <th>543</th>\n",
              "      <td>54</td>\n",
              "      <td>0</td>\n",
              "      <td>47.41</td>\n",
              "      <td>0</td>\n",
              "      <td>1</td>\n",
              "      <td>2</td>\n",
              "      <td>63770.42801</td>\n",
              "    </tr>\n",
              "    <tr>\n",
              "      <th>547</th>\n",
              "      <td>54</td>\n",
              "      <td>0</td>\n",
              "      <td>46.70</td>\n",
              "      <td>2</td>\n",
              "      <td>0</td>\n",
              "      <td>3</td>\n",
              "      <td>11538.42100</td>\n",
              "    </tr>\n",
              "    <tr>\n",
              "      <th>549</th>\n",
              "      <td>43</td>\n",
              "      <td>0</td>\n",
              "      <td>46.20</td>\n",
              "      <td>0</td>\n",
              "      <td>1</td>\n",
              "      <td>2</td>\n",
              "      <td>45863.20500</td>\n",
              "    </tr>\n",
              "    <tr>\n",
              "      <th>582</th>\n",
              "      <td>39</td>\n",
              "      <td>1</td>\n",
              "      <td>45.43</td>\n",
              "      <td>2</td>\n",
              "      <td>0</td>\n",
              "      <td>2</td>\n",
              "      <td>6356.27070</td>\n",
              "    </tr>\n",
              "    <tr>\n",
              "      <th>660</th>\n",
              "      <td>37</td>\n",
              "      <td>1</td>\n",
              "      <td>46.53</td>\n",
              "      <td>3</td>\n",
              "      <td>0</td>\n",
              "      <td>2</td>\n",
              "      <td>6435.62370</td>\n",
              "    </tr>\n",
              "    <tr>\n",
              "      <th>847</th>\n",
              "      <td>23</td>\n",
              "      <td>1</td>\n",
              "      <td>50.38</td>\n",
              "      <td>1</td>\n",
              "      <td>0</td>\n",
              "      <td>2</td>\n",
              "      <td>2438.05520</td>\n",
              "    </tr>\n",
              "    <tr>\n",
              "      <th>860</th>\n",
              "      <td>37</td>\n",
              "      <td>0</td>\n",
              "      <td>47.60</td>\n",
              "      <td>2</td>\n",
              "      <td>1</td>\n",
              "      <td>3</td>\n",
              "      <td>46113.51100</td>\n",
              "    </tr>\n",
              "    <tr>\n",
              "      <th>930</th>\n",
              "      <td>26</td>\n",
              "      <td>1</td>\n",
              "      <td>46.53</td>\n",
              "      <td>1</td>\n",
              "      <td>0</td>\n",
              "      <td>2</td>\n",
              "      <td>2927.06470</td>\n",
              "    </tr>\n",
              "    <tr>\n",
              "      <th>941</th>\n",
              "      <td>50</td>\n",
              "      <td>0</td>\n",
              "      <td>46.09</td>\n",
              "      <td>1</td>\n",
              "      <td>0</td>\n",
              "      <td>2</td>\n",
              "      <td>9549.56510</td>\n",
              "    </tr>\n",
              "    <tr>\n",
              "      <th>1024</th>\n",
              "      <td>47</td>\n",
              "      <td>0</td>\n",
              "      <td>45.32</td>\n",
              "      <td>1</td>\n",
              "      <td>0</td>\n",
              "      <td>2</td>\n",
              "      <td>8569.86180</td>\n",
              "    </tr>\n",
              "    <tr>\n",
              "      <th>1047</th>\n",
              "      <td>22</td>\n",
              "      <td>1</td>\n",
              "      <td>52.58</td>\n",
              "      <td>1</td>\n",
              "      <td>1</td>\n",
              "      <td>2</td>\n",
              "      <td>44501.39820</td>\n",
              "    </tr>\n",
              "    <tr>\n",
              "      <th>1088</th>\n",
              "      <td>52</td>\n",
              "      <td>1</td>\n",
              "      <td>47.74</td>\n",
              "      <td>1</td>\n",
              "      <td>0</td>\n",
              "      <td>2</td>\n",
              "      <td>9748.91060</td>\n",
              "    </tr>\n",
              "    <tr>\n",
              "      <th>1131</th>\n",
              "      <td>27</td>\n",
              "      <td>1</td>\n",
              "      <td>45.90</td>\n",
              "      <td>2</td>\n",
              "      <td>0</td>\n",
              "      <td>3</td>\n",
              "      <td>3693.42800</td>\n",
              "    </tr>\n",
              "    <tr>\n",
              "      <th>1317</th>\n",
              "      <td>18</td>\n",
              "      <td>1</td>\n",
              "      <td>53.13</td>\n",
              "      <td>0</td>\n",
              "      <td>0</td>\n",
              "      <td>2</td>\n",
              "      <td>1163.46270</td>\n",
              "    </tr>\n",
              "  </tbody>\n",
              "</table>\n",
              "</div>"
            ],
            "text/plain": [
              "      age  sex    bmi  children  smoker  region      charges\n",
              "116    58    1  49.06         0       0       2  11381.32540\n",
              "286    46    0  48.07         2       0       0   9432.92530\n",
              "292    25    1  45.54         2       1       2  42112.23560\n",
              "401    47    1  47.52         1       0       2   8083.91980\n",
              "438    52    0  46.75         5       0       2  12592.53450\n",
              "454    32    1  46.53         2       0       2   4686.38870\n",
              "543    54    0  47.41         0       1       2  63770.42801\n",
              "547    54    0  46.70         2       0       3  11538.42100\n",
              "549    43    0  46.20         0       1       2  45863.20500\n",
              "582    39    1  45.43         2       0       2   6356.27070\n",
              "660    37    1  46.53         3       0       2   6435.62370\n",
              "847    23    1  50.38         1       0       2   2438.05520\n",
              "860    37    0  47.60         2       1       3  46113.51100\n",
              "930    26    1  46.53         1       0       2   2927.06470\n",
              "941    50    0  46.09         1       0       2   9549.56510\n",
              "1024   47    0  45.32         1       0       2   8569.86180\n",
              "1047   22    1  52.58         1       1       2  44501.39820\n",
              "1088   52    1  47.74         1       0       2   9748.91060\n",
              "1131   27    1  45.90         2       0       3   3693.42800\n",
              "1317   18    1  53.13         0       0       2   1163.46270"
            ]
          },
          "metadata": {
            "tags": []
          },
          "execution_count": 30
        }
      ]
    },
    {
      "cell_type": "code",
      "metadata": {
        "execution": {
          "iopub.execute_input": "2021-03-21T08:47:24.154786Z",
          "iopub.status.busy": "2021-03-21T08:47:24.154143Z",
          "iopub.status.idle": "2021-03-21T08:47:24.157556Z",
          "shell.execute_reply": "2021-03-21T08:47:24.156840Z"
        },
        "papermill": {
          "duration": 0.03363,
          "end_time": "2021-03-21T08:47:24.157703",
          "exception": false,
          "start_time": "2021-03-21T08:47:24.124073",
          "status": "completed"
        },
        "tags": [],
        "colab": {
          "base_uri": "https://localhost:8080/"
        },
        "id": "TtGdYKU9rNsg",
        "outputId": "aa31220d-a22d-47e8-d0bb-c0eb88446d7f"
      },
      "source": [
        "mean_bmi = X['bmi'].mean()\n",
        "mean_bmi"
      ],
      "execution_count": 31,
      "outputs": [
        {
          "output_type": "execute_result",
          "data": {
            "text/plain": [
              "30.663396860986538"
            ]
          },
          "metadata": {
            "tags": []
          },
          "execution_count": 31
        }
      ]
    },
    {
      "cell_type": "code",
      "metadata": {
        "execution": {
          "iopub.execute_input": "2021-03-21T08:47:24.228338Z",
          "iopub.status.busy": "2021-03-21T08:47:24.222814Z",
          "iopub.status.idle": "2021-03-21T08:47:24.290586Z",
          "shell.execute_reply": "2021-03-21T08:47:24.290003Z"
        },
        "papermill": {
          "duration": 0.109059,
          "end_time": "2021-03-21T08:47:24.290864",
          "exception": false,
          "start_time": "2021-03-21T08:47:24.181805",
          "status": "completed"
        },
        "tags": [],
        "id": "YRUBouOurNsl"
      },
      "source": [
        "for index, row in X.iterrows():\n",
        "    \n",
        "    if row['bmi']  >46:\n",
        "        X.at[index, 'bmi'] = mean_bmi"
      ],
      "execution_count": 32,
      "outputs": []
    },
    {
      "cell_type": "code",
      "metadata": {
        "execution": {
          "iopub.execute_input": "2021-03-21T08:47:24.346945Z",
          "iopub.status.busy": "2021-03-21T08:47:24.346348Z",
          "iopub.status.idle": "2021-03-21T08:47:24.349171Z",
          "shell.execute_reply": "2021-03-21T08:47:24.348696Z"
        },
        "papermill": {
          "duration": 0.031147,
          "end_time": "2021-03-21T08:47:24.349324",
          "exception": false,
          "start_time": "2021-03-21T08:47:24.318177",
          "status": "completed"
        },
        "tags": [],
        "id": "65nIbXztrNsn"
      },
      "source": [
        "# X[X['bmi'] > 45].bmi = mean_bmi"
      ],
      "execution_count": 33,
      "outputs": []
    },
    {
      "cell_type": "code",
      "metadata": {
        "execution": {
          "iopub.execute_input": "2021-03-21T08:47:24.401649Z",
          "iopub.status.busy": "2021-03-21T08:47:24.401069Z",
          "iopub.status.idle": "2021-03-21T08:47:24.595416Z",
          "shell.execute_reply": "2021-03-21T08:47:24.595856Z"
        },
        "papermill": {
          "duration": 0.222281,
          "end_time": "2021-03-21T08:47:24.596067",
          "exception": false,
          "start_time": "2021-03-21T08:47:24.373786",
          "status": "completed"
        },
        "tags": [],
        "colab": {
          "base_uri": "https://localhost:8080/",
          "height": 0
        },
        "id": "YaRM3I-ErNsu",
        "outputId": "29171714-b07a-4397-f40f-730619d20990"
      },
      "source": [
        "boxplot = X.boxplot(figsize=(15, 12))"
      ],
      "execution_count": 34,
      "outputs": [
        {
          "output_type": "display_data",
          "data": {
            "image/png": "[encoded data removed]",
            "text/plain": [
              "<Figure size 1080x864 with 1 Axes>"
            ]
          },
          "metadata": {
            "tags": []
          }
        }
      ]
    },
    {
      "cell_type": "markdown",
      "metadata": {
        "papermill": {
          "duration": 0.025002,
          "end_time": "2021-03-21T08:47:24.646378",
          "exception": false,
          "start_time": "2021-03-21T08:47:24.621376",
          "status": "completed"
        },
        "tags": [],
        "id": "hcm0MapmrNsy"
      },
      "source": [
        "# Model 1 -> LinearRegression"
      ]
    },
    {
      "cell_type": "code",
      "metadata": {
        "execution": {
          "iopub.execute_input": "2021-03-21T08:47:24.700361Z",
          "iopub.status.busy": "2021-03-21T08:47:24.699649Z",
          "iopub.status.idle": "2021-03-21T08:47:24.704334Z",
          "shell.execute_reply": "2021-03-21T08:47:24.704738Z"
        },
        "papermill": {
          "duration": 0.033543,
          "end_time": "2021-03-21T08:47:24.704943",
          "exception": false,
          "start_time": "2021-03-21T08:47:24.671400",
          "status": "completed"
        },
        "tags": [],
        "id": "QVpJrNnVrNs5"
      },
      "source": [
        "from sklearn.linear_model import LinearRegression\n",
        "from sklearn.pipeline import make_pipeline\n",
        "from sklearn.preprocessing import StandardScaler\n",
        "model_1 = make_pipeline(StandardScaler(), LinearRegression())"
      ],
      "execution_count": 35,
      "outputs": []
    },
    {
      "cell_type": "code",
      "metadata": {
        "execution": {
          "iopub.execute_input": "2021-03-21T08:47:24.764734Z",
          "iopub.status.busy": "2021-03-21T08:47:24.762616Z",
          "iopub.status.idle": "2021-03-21T08:47:24.798113Z",
          "shell.execute_reply": "2021-03-21T08:47:24.797572Z"
        },
        "papermill": {
          "duration": 0.067812,
          "end_time": "2021-03-21T08:47:24.798258",
          "exception": false,
          "start_time": "2021-03-21T08:47:24.730446",
          "status": "completed"
        },
        "tags": [],
        "colab": {
          "base_uri": "https://localhost:8080/"
        },
        "id": "mwgtPeMDrNs6",
        "outputId": "c21971ab-7bde-4fa9-ae3a-94b6917e4c67"
      },
      "source": [
        "model_1.fit(X_train,y_train)"
      ],
      "execution_count": 36,
      "outputs": [
        {
          "output_type": "execute_result",
          "data": {
            "text/plain": [
              "Pipeline(memory=None,\n",
              "         steps=[('standardscaler',\n",
              "                 StandardScaler(copy=True, with_mean=True, with_std=True)),\n",
              "                ('linearregression',\n",
              "                 LinearRegression(copy_X=True, fit_intercept=True, n_jobs=None,\n",
              "                                  normalize=False))],\n",
              "         verbose=False)"
            ]
          },
          "metadata": {
            "tags": []
          },
          "execution_count": 36
        }
      ]
    },
    {
      "cell_type": "code",
      "metadata": {
        "execution": {
          "iopub.execute_input": "2021-03-21T08:47:24.852521Z",
          "iopub.status.busy": "2021-03-21T08:47:24.851956Z",
          "iopub.status.idle": "2021-03-21T08:47:24.858629Z",
          "shell.execute_reply": "2021-03-21T08:47:24.859178Z"
        },
        "papermill": {
          "duration": 0.035562,
          "end_time": "2021-03-21T08:47:24.859347",
          "exception": false,
          "start_time": "2021-03-21T08:47:24.823785",
          "status": "completed"
        },
        "tags": [],
        "colab": {
          "base_uri": "https://localhost:8080/"
        },
        "id": "dCtnbsRCrNs8",
        "outputId": "4ce3928c-72a5-41fa-f438-91e23d2e6169"
      },
      "source": [
        "model_1.score(X_test,y_test)"
      ],
      "execution_count": 37,
      "outputs": [
        {
          "output_type": "execute_result",
          "data": {
            "text/plain": [
              "0.7602640802497019"
            ]
          },
          "metadata": {
            "tags": []
          },
          "execution_count": 37
        }
      ]
    },
    {
      "cell_type": "code",
      "metadata": {
        "execution": {
          "iopub.execute_input": "2021-03-21T08:47:24.915444Z",
          "iopub.status.busy": "2021-03-21T08:47:24.914802Z",
          "iopub.status.idle": "2021-03-21T08:47:24.921853Z",
          "shell.execute_reply": "2021-03-21T08:47:24.922312Z"
        },
        "papermill": {
          "duration": 0.036666,
          "end_time": "2021-03-21T08:47:24.922482",
          "exception": false,
          "start_time": "2021-03-21T08:47:24.885816",
          "status": "completed"
        },
        "tags": [],
        "colab": {
          "base_uri": "https://localhost:8080/"
        },
        "id": "0H9zcz4CrNs9",
        "outputId": "7496cbb9-59a0-47d5-919b-e6d62b60cc06"
      },
      "source": [
        "from sklearn.metrics import mean_absolute_error\n",
        "y_pred = model_1.predict(X_test)\n",
        "mean_absolute_error(y_test, y_pred)"
      ],
      "execution_count": 38,
      "outputs": [
        {
          "output_type": "execute_result",
          "data": {
            "text/plain": [
              "4204.415654724193"
            ]
          },
          "metadata": {
            "tags": []
          },
          "execution_count": 38
        }
      ]
    },
    {
      "cell_type": "markdown",
      "metadata": {
        "papermill": {
          "duration": 0.02645,
          "end_time": "2021-03-21T08:47:24.975155",
          "exception": false,
          "start_time": "2021-03-21T08:47:24.948705",
          "status": "completed"
        },
        "tags": [],
        "id": "Pq5nJjOIrNs-"
      },
      "source": [
        "# Model 2 -> Lasso"
      ]
    },
    {
      "cell_type": "code",
      "metadata": {
        "execution": {
          "iopub.execute_input": "2021-03-21T08:47:25.032919Z",
          "iopub.status.busy": "2021-03-21T08:47:25.032333Z",
          "iopub.status.idle": "2021-03-21T08:47:25.035869Z",
          "shell.execute_reply": "2021-03-21T08:47:25.036321Z"
        },
        "papermill": {
          "duration": 0.033214,
          "end_time": "2021-03-21T08:47:25.036484",
          "exception": false,
          "start_time": "2021-03-21T08:47:25.003270",
          "status": "completed"
        },
        "tags": [],
        "id": "MICzsOg1rNs_"
      },
      "source": [
        "from sklearn.linear_model import Lasso\n",
        "model_2 = make_pipeline(StandardScaler(), Lasso())"
      ],
      "execution_count": 39,
      "outputs": []
    },
    {
      "cell_type": "code",
      "metadata": {
        "execution": {
          "iopub.execute_input": "2021-03-21T08:47:25.093806Z",
          "iopub.status.busy": "2021-03-21T08:47:25.093249Z",
          "iopub.status.idle": "2021-03-21T08:47:25.107216Z",
          "shell.execute_reply": "2021-03-21T08:47:25.106643Z"
        },
        "papermill": {
          "duration": 0.043495,
          "end_time": "2021-03-21T08:47:25.107364",
          "exception": false,
          "start_time": "2021-03-21T08:47:25.063869",
          "status": "completed"
        },
        "tags": [],
        "colab": {
          "base_uri": "https://localhost:8080/"
        },
        "id": "Y_Ix3M_YrNtB",
        "outputId": "a82ede97-d122-47e6-ec51-41e4ad07a82f"
      },
      "source": [
        "model_2.fit(X_train,y_train)"
      ],
      "execution_count": 40,
      "outputs": [
        {
          "output_type": "execute_result",
          "data": {
            "text/plain": [
              "Pipeline(memory=None,\n",
              "         steps=[('standardscaler',\n",
              "                 StandardScaler(copy=True, with_mean=True, with_std=True)),\n",
              "                ('lasso',\n",
              "                 Lasso(alpha=1.0, copy_X=True, fit_intercept=True,\n",
              "                       max_iter=1000, normalize=False, positive=False,\n",
              "                       precompute=False, random_state=None, selection='cyclic',\n",
              "                       tol=0.0001, warm_start=False))],\n",
              "         verbose=False)"
            ]
          },
          "metadata": {
            "tags": []
          },
          "execution_count": 40
        }
      ]
    },
    {
      "cell_type": "code",
      "metadata": {
        "execution": {
          "iopub.execute_input": "2021-03-21T08:47:25.168753Z",
          "iopub.status.busy": "2021-03-21T08:47:25.167261Z",
          "iopub.status.idle": "2021-03-21T08:47:25.171804Z",
          "shell.execute_reply": "2021-03-21T08:47:25.172236Z"
        },
        "papermill": {
          "duration": 0.038341,
          "end_time": "2021-03-21T08:47:25.172467",
          "exception": false,
          "start_time": "2021-03-21T08:47:25.134126",
          "status": "completed"
        },
        "tags": [],
        "colab": {
          "base_uri": "https://localhost:8080/"
        },
        "id": "MR5Cm3cprNtD",
        "outputId": "d05da565-7c00-4213-ac78-200543a21880"
      },
      "source": [
        "model_2.score(X_test,y_test)"
      ],
      "execution_count": 41,
      "outputs": [
        {
          "output_type": "execute_result",
          "data": {
            "text/plain": [
              "0.7602651904580856"
            ]
          },
          "metadata": {
            "tags": []
          },
          "execution_count": 41
        }
      ]
    },
    {
      "cell_type": "code",
      "metadata": {
        "execution": {
          "iopub.execute_input": "2021-03-21T08:47:25.229812Z",
          "iopub.status.busy": "2021-03-21T08:47:25.229258Z",
          "iopub.status.idle": "2021-03-21T08:47:25.236366Z",
          "shell.execute_reply": "2021-03-21T08:47:25.236825Z"
        },
        "papermill": {
          "duration": 0.037445,
          "end_time": "2021-03-21T08:47:25.237005",
          "exception": false,
          "start_time": "2021-03-21T08:47:25.199560",
          "status": "completed"
        },
        "tags": [],
        "colab": {
          "base_uri": "https://localhost:8080/"
        },
        "id": "_zYxrfwerNtE",
        "outputId": "14ce8dc1-3c48-4233-8656-202418bba716"
      },
      "source": [
        "y_pred = model_2.predict(X_test)\n",
        "mean_absolute_error(y_test, y_pred)"
      ],
      "execution_count": 42,
      "outputs": [
        {
          "output_type": "execute_result",
          "data": {
            "text/plain": [
              "4204.260373504683"
            ]
          },
          "metadata": {
            "tags": []
          },
          "execution_count": 42
        }
      ]
    },
    {
      "cell_type": "markdown",
      "metadata": {
        "papermill": {
          "duration": 0.026815,
          "end_time": "2021-03-21T08:47:25.291087",
          "exception": false,
          "start_time": "2021-03-21T08:47:25.264272",
          "status": "completed"
        },
        "tags": [],
        "id": "gI2jDZ7BrNtF"
      },
      "source": [
        "#  Model 3 -> RandomForestRegressor"
      ]
    },
    {
      "cell_type": "code",
      "metadata": {
        "execution": {
          "iopub.execute_input": "2021-03-21T08:47:25.363628Z",
          "iopub.status.busy": "2021-03-21T08:47:25.362723Z",
          "iopub.status.idle": "2021-03-21T08:47:25.535751Z",
          "shell.execute_reply": "2021-03-21T08:47:25.535092Z"
        },
        "papermill": {
          "duration": 0.211528,
          "end_time": "2021-03-21T08:47:25.535919",
          "exception": false,
          "start_time": "2021-03-21T08:47:25.324391",
          "status": "completed"
        },
        "tags": [],
        "id": "ly1mjv68rNtG"
      },
      "source": [
        "from sklearn.ensemble import RandomForestRegressor\n",
        "model_3 =make_pipeline(StandardScaler(), RandomForestRegressor()) "
      ],
      "execution_count": 43,
      "outputs": []
    },
    {
      "cell_type": "code",
      "metadata": {
        "execution": {
          "iopub.execute_input": "2021-03-21T08:47:25.602620Z",
          "iopub.status.busy": "2021-03-21T08:47:25.600546Z",
          "iopub.status.idle": "2021-03-21T08:47:25.871698Z",
          "shell.execute_reply": "2021-03-21T08:47:25.871126Z"
        },
        "papermill": {
          "duration": 0.306542,
          "end_time": "2021-03-21T08:47:25.871843",
          "exception": false,
          "start_time": "2021-03-21T08:47:25.565301",
          "status": "completed"
        },
        "tags": [],
        "colab": {
          "base_uri": "https://localhost:8080/"
        },
        "id": "qEMywD7erNtH",
        "outputId": "0098d4b9-ade3-4ef7-e8db-8c12276d37ad"
      },
      "source": [
        "model_3.fit(X_train,y_train)"
      ],
      "execution_count": 44,
      "outputs": [
        {
          "output_type": "execute_result",
          "data": {
            "text/plain": [
              "Pipeline(memory=None,\n",
              "         steps=[('standardscaler',\n",
              "                 StandardScaler(copy=True, with_mean=True, with_std=True)),\n",
              "                ('randomforestregressor',\n",
              "                 RandomForestRegressor(bootstrap=True, ccp_alpha=0.0,\n",
              "                                       criterion='mse', max_depth=None,\n",
              "                                       max_features='auto', max_leaf_nodes=None,\n",
              "                                       max_samples=None,\n",
              "                                       min_impurity_decrease=0.0,\n",
              "                                       min_impurity_split=None,\n",
              "                                       min_samples_leaf=1, min_samples_split=2,\n",
              "                                       min_weight_fraction_leaf=0.0,\n",
              "                                       n_estimators=100, n_jobs=None,\n",
              "                                       oob_score=False, random_state=None,\n",
              "                                       verbose=0, warm_start=False))],\n",
              "         verbose=False)"
            ]
          },
          "metadata": {
            "tags": []
          },
          "execution_count": 44
        }
      ]
    },
    {
      "cell_type": "code",
      "metadata": {
        "execution": {
          "iopub.execute_input": "2021-03-21T08:47:25.935516Z",
          "iopub.status.busy": "2021-03-21T08:47:25.934823Z",
          "iopub.status.idle": "2021-03-21T08:47:25.954662Z",
          "shell.execute_reply": "2021-03-21T08:47:25.954175Z"
        },
        "papermill": {
          "duration": 0.054675,
          "end_time": "2021-03-21T08:47:25.954796",
          "exception": false,
          "start_time": "2021-03-21T08:47:25.900121",
          "status": "completed"
        },
        "tags": [],
        "colab": {
          "base_uri": "https://localhost:8080/"
        },
        "id": "bfU-w4_5rNtM",
        "outputId": "56fca454-c932-4ffb-a07e-55017a8482f1"
      },
      "source": [
        "model_3.score(X_test,y_test)"
      ],
      "execution_count": 45,
      "outputs": [
        {
          "output_type": "execute_result",
          "data": {
            "text/plain": [
              "0.8466519451380975"
            ]
          },
          "metadata": {
            "tags": []
          },
          "execution_count": 45
        }
      ]
    },
    {
      "cell_type": "code",
      "metadata": {
        "execution": {
          "iopub.execute_input": "2021-03-21T08:47:26.019683Z",
          "iopub.status.busy": "2021-03-21T08:47:26.018712Z",
          "iopub.status.idle": "2021-03-21T08:47:26.039886Z",
          "shell.execute_reply": "2021-03-21T08:47:26.039297Z"
        },
        "papermill": {
          "duration": 0.056581,
          "end_time": "2021-03-21T08:47:26.040055",
          "exception": false,
          "start_time": "2021-03-21T08:47:25.983474",
          "status": "completed"
        },
        "tags": [],
        "colab": {
          "base_uri": "https://localhost:8080/"
        },
        "id": "3GdhQ-MKrNtN",
        "outputId": "478d4146-d1de-4e82-ede5-88259e871721"
      },
      "source": [
        "y_pred = model_3.predict(X_test)\n",
        "mean_absolute_error(y_test, y_pred)"
      ],
      "execution_count": 46,
      "outputs": [
        {
          "output_type": "execute_result",
          "data": {
            "text/plain": [
              "2557.2795100794133"
            ]
          },
          "metadata": {
            "tags": []
          },
          "execution_count": 46
        }
      ]
    },
    {
      "cell_type": "code",
      "metadata": {
        "papermill": {
          "duration": 0.028196,
          "end_time": "2021-03-21T08:47:26.096415",
          "exception": false,
          "start_time": "2021-03-21T08:47:26.068219",
          "status": "completed"
        },
        "tags": [],
        "id": "JfC3qKcCrNtP"
      },
      "source": [
        ""
      ],
      "execution_count": null,
      "outputs": []
    }
  ]
}